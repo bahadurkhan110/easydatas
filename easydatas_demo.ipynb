{
 "cells": [
  {
   "cell_type": "code",
   "execution_count": 1,
   "id": "370525d2-a309-414e-88fa-9caec59d6245",
   "metadata": {},
   "outputs": [],
   "source": [
    "from easydatas.core.data import read_data\n",
    "from easydatas.core.preprocessing import preprocess_data\n",
    "from easydatas.core.feature_engineering import select_best_features\n",
    "from easydatas.core.evaluation import evaluate_classification_model\n",
    "from easydatas.core.data import read_dictionary\n",
    "from easydatas.core.model import train_classification_model\n",
    "from easydatas.core.evaluation import get_confusion_matrix"
   ]
  },
  {
   "cell_type": "markdown",
   "id": "231bdc9a-0113-4ae8-98bd-e353660b3129",
   "metadata": {},
   "source": [
    "### Sample Demo"
   ]
  },
  {
   "cell_type": "markdown",
   "id": "662f0005-0f1d-4b13-9612-613ecae87f33",
   "metadata": {},
   "source": [
    "### Getting Data"
   ]
  },
  {
   "cell_type": "code",
   "execution_count": 3,
   "id": "81692099-7228-4162-8600-4348dbccad31",
   "metadata": {},
   "outputs": [],
   "source": [
    "test_data_dict = {\n",
    "    'feature1': [1.0, 4.0, 7.0, 10.0],\n",
    "    'feature2': [2.0, 5.0, 8.0, 11.0],\n",
    "    'feature3': [3.0, 6.0, 9.0, 12.0],\n",
    "    'target': [0, 1, 0, 1]\n",
    "}"
   ]
  },
  {
   "cell_type": "code",
   "execution_count": 4,
   "id": "95c6e37c-de5b-40c5-9aae-2404aa48386d",
   "metadata": {},
   "outputs": [
    {
     "data": {
      "text/plain": [
       "{'feature1': [1.0, 4.0, 7.0, 10.0],\n",
       " 'feature2': [2.0, 5.0, 8.0, 11.0],\n",
       " 'feature3': [3.0, 6.0, 9.0, 12.0],\n",
       " 'target': [0, 1, 0, 1]}"
      ]
     },
     "execution_count": 4,
     "metadata": {},
     "output_type": "execute_result"
    }
   ],
   "source": [
    "test_data_dict"
   ]
  },
  {
   "cell_type": "code",
   "execution_count": 5,
   "id": "a13d4273-5c97-4655-ab63-c8e3b1854932",
   "metadata": {},
   "outputs": [
    {
     "data": {
      "text/html": [
       "<div>\n",
       "<style scoped>\n",
       "    .dataframe tbody tr th:only-of-type {\n",
       "        vertical-align: middle;\n",
       "    }\n",
       "\n",
       "    .dataframe tbody tr th {\n",
       "        vertical-align: top;\n",
       "    }\n",
       "\n",
       "    .dataframe thead th {\n",
       "        text-align: right;\n",
       "    }\n",
       "</style>\n",
       "<table border=\"1\" class=\"dataframe\">\n",
       "  <thead>\n",
       "    <tr style=\"text-align: right;\">\n",
       "      <th></th>\n",
       "      <th>feature1</th>\n",
       "      <th>feature2</th>\n",
       "      <th>feature3</th>\n",
       "      <th>target</th>\n",
       "    </tr>\n",
       "  </thead>\n",
       "  <tbody>\n",
       "    <tr>\n",
       "      <th>0</th>\n",
       "      <td>1.0</td>\n",
       "      <td>2.0</td>\n",
       "      <td>3.0</td>\n",
       "      <td>0</td>\n",
       "    </tr>\n",
       "    <tr>\n",
       "      <th>1</th>\n",
       "      <td>4.0</td>\n",
       "      <td>5.0</td>\n",
       "      <td>6.0</td>\n",
       "      <td>1</td>\n",
       "    </tr>\n",
       "    <tr>\n",
       "      <th>2</th>\n",
       "      <td>7.0</td>\n",
       "      <td>8.0</td>\n",
       "      <td>9.0</td>\n",
       "      <td>0</td>\n",
       "    </tr>\n",
       "    <tr>\n",
       "      <th>3</th>\n",
       "      <td>10.0</td>\n",
       "      <td>11.0</td>\n",
       "      <td>12.0</td>\n",
       "      <td>1</td>\n",
       "    </tr>\n",
       "  </tbody>\n",
       "</table>\n",
       "</div>"
      ],
      "text/plain": [
       "   feature1  feature2  feature3  target\n",
       "0       1.0       2.0       3.0       0\n",
       "1       4.0       5.0       6.0       1\n",
       "2       7.0       8.0       9.0       0\n",
       "3      10.0      11.0      12.0       1"
      ]
     },
     "execution_count": 5,
     "metadata": {},
     "output_type": "execute_result"
    }
   ],
   "source": [
    "df = read_dictionary(test_data_dict)\n",
    "df"
   ]
  },
  {
   "cell_type": "markdown",
   "id": "c72efb43-369e-4f50-870f-ab2c138a1968",
   "metadata": {},
   "source": [
    "### Preprocessing and Feature Selection"
   ]
  },
  {
   "cell_type": "code",
   "execution_count": 6,
   "id": "c53966ca-a5d2-4b58-be78-a7df5722bd61",
   "metadata": {},
   "outputs": [],
   "source": [
    "# Assuming you have a list of numerical columns used during training\n",
    "numerical_cols = ['feature1', 'feature2', 'feature3']"
   ]
  },
  {
   "cell_type": "code",
   "execution_count": 7,
   "id": "9fe30e7b-27b1-4cc9-9b26-011ba98d3aed",
   "metadata": {},
   "outputs": [
    {
     "data": {
      "text/html": [
       "<div>\n",
       "<style scoped>\n",
       "    .dataframe tbody tr th:only-of-type {\n",
       "        vertical-align: middle;\n",
       "    }\n",
       "\n",
       "    .dataframe tbody tr th {\n",
       "        vertical-align: top;\n",
       "    }\n",
       "\n",
       "    .dataframe thead th {\n",
       "        text-align: right;\n",
       "    }\n",
       "</style>\n",
       "<table border=\"1\" class=\"dataframe\">\n",
       "  <thead>\n",
       "    <tr style=\"text-align: right;\">\n",
       "      <th></th>\n",
       "      <th>feature1</th>\n",
       "      <th>feature2</th>\n",
       "      <th>feature3</th>\n",
       "      <th>target</th>\n",
       "    </tr>\n",
       "  </thead>\n",
       "  <tbody>\n",
       "    <tr>\n",
       "      <th>0</th>\n",
       "      <td>-1.341641</td>\n",
       "      <td>-1.341641</td>\n",
       "      <td>-1.341641</td>\n",
       "      <td>0</td>\n",
       "    </tr>\n",
       "    <tr>\n",
       "      <th>1</th>\n",
       "      <td>-0.447214</td>\n",
       "      <td>-0.447214</td>\n",
       "      <td>-0.447214</td>\n",
       "      <td>1</td>\n",
       "    </tr>\n",
       "    <tr>\n",
       "      <th>2</th>\n",
       "      <td>0.447214</td>\n",
       "      <td>0.447214</td>\n",
       "      <td>0.447214</td>\n",
       "      <td>0</td>\n",
       "    </tr>\n",
       "    <tr>\n",
       "      <th>3</th>\n",
       "      <td>1.341641</td>\n",
       "      <td>1.341641</td>\n",
       "      <td>1.341641</td>\n",
       "      <td>1</td>\n",
       "    </tr>\n",
       "  </tbody>\n",
       "</table>\n",
       "</div>"
      ],
      "text/plain": [
       "   feature1  feature2  feature3  target\n",
       "0 -1.341641 -1.341641 -1.341641       0\n",
       "1 -0.447214 -0.447214 -0.447214       1\n",
       "2  0.447214  0.447214  0.447214       0\n",
       "3  1.341641  1.341641  1.341641       1"
      ]
     },
     "execution_count": 7,
     "metadata": {},
     "output_type": "execute_result"
    }
   ],
   "source": [
    "# Preprocess test data\n",
    "preprocessed_test_data = preprocess_data(df, numerical_cols)\n",
    "preprocessed_test_data"
   ]
  },
  {
   "cell_type": "code",
   "execution_count": 8,
   "id": "43b310aa-b03f-403d-a0ff-11d1358b450a",
   "metadata": {},
   "outputs": [
    {
     "data": {
      "text/plain": [
       "array([[-1.34164079, -1.34164079, -1.34164079],\n",
       "       [-0.4472136 , -0.4472136 , -0.4472136 ],\n",
       "       [ 0.4472136 ,  0.4472136 ,  0.4472136 ],\n",
       "       [ 1.34164079,  1.34164079,  1.34164079]])"
      ]
     },
     "execution_count": 8,
     "metadata": {},
     "output_type": "execute_result"
    }
   ],
   "source": [
    "# Feature engineering (if applicable)\n",
    "# Assuming you have X_train and y_train from your training data\n",
    "X_test_selected = select_best_features(preprocessed_test_data.drop('target', axis=1), preprocessed_test_data['target'], k=3)\n",
    "X_test_selected"
   ]
  },
  {
   "cell_type": "markdown",
   "id": "d729b49d-43ec-4a0a-9c66-147bb0444dc4",
   "metadata": {},
   "source": [
    "### Training Model"
   ]
  },
  {
   "cell_type": "code",
   "execution_count": 19,
   "id": "af4feefe-ffd6-4621-879a-8dcd40aee2e3",
   "metadata": {},
   "outputs": [],
   "source": [
    "trained_model = train_classification_model(X_test_selected, preprocessed_test_data['target'])"
   ]
  },
  {
   "cell_type": "markdown",
   "id": "1e5eb4bb-c1a7-42b5-9944-07efc34a080a",
   "metadata": {},
   "source": [
    "### Evaluating Model"
   ]
  },
  {
   "cell_type": "code",
   "execution_count": 11,
   "id": "dba35344-95a4-4e86-8bf0-cc87bc3dbdf2",
   "metadata": {},
   "outputs": [],
   "source": [
    "evaluation_data_dict = {\n",
    "    'feature1': [1.5, 4.5, 6.0, 9.5, 2.0, 7.5],\n",
    "    'feature2': [3.0, 5.5, 7.0, 10.0, 1.5, 8.5],\n",
    "    'feature3': [2.5, 6.5, 8.0, 11.5, 3.5, 9.0],\n",
    "    'target': [0, 1, 0, 1, 0, 1]\n",
    "}"
   ]
  },
  {
   "cell_type": "code",
   "execution_count": 12,
   "id": "3462121e-6501-4132-919a-4c517a0f97f7",
   "metadata": {},
   "outputs": [
    {
     "data": {
      "text/html": [
       "<div>\n",
       "<style scoped>\n",
       "    .dataframe tbody tr th:only-of-type {\n",
       "        vertical-align: middle;\n",
       "    }\n",
       "\n",
       "    .dataframe tbody tr th {\n",
       "        vertical-align: top;\n",
       "    }\n",
       "\n",
       "    .dataframe thead th {\n",
       "        text-align: right;\n",
       "    }\n",
       "</style>\n",
       "<table border=\"1\" class=\"dataframe\">\n",
       "  <thead>\n",
       "    <tr style=\"text-align: right;\">\n",
       "      <th></th>\n",
       "      <th>feature1</th>\n",
       "      <th>feature2</th>\n",
       "      <th>feature3</th>\n",
       "      <th>target</th>\n",
       "    </tr>\n",
       "  </thead>\n",
       "  <tbody>\n",
       "    <tr>\n",
       "      <th>0</th>\n",
       "      <td>1.5</td>\n",
       "      <td>3.0</td>\n",
       "      <td>2.5</td>\n",
       "      <td>0</td>\n",
       "    </tr>\n",
       "    <tr>\n",
       "      <th>1</th>\n",
       "      <td>4.5</td>\n",
       "      <td>5.5</td>\n",
       "      <td>6.5</td>\n",
       "      <td>1</td>\n",
       "    </tr>\n",
       "    <tr>\n",
       "      <th>2</th>\n",
       "      <td>6.0</td>\n",
       "      <td>7.0</td>\n",
       "      <td>8.0</td>\n",
       "      <td>0</td>\n",
       "    </tr>\n",
       "    <tr>\n",
       "      <th>3</th>\n",
       "      <td>9.5</td>\n",
       "      <td>10.0</td>\n",
       "      <td>11.5</td>\n",
       "      <td>1</td>\n",
       "    </tr>\n",
       "    <tr>\n",
       "      <th>4</th>\n",
       "      <td>2.0</td>\n",
       "      <td>1.5</td>\n",
       "      <td>3.5</td>\n",
       "      <td>0</td>\n",
       "    </tr>\n",
       "    <tr>\n",
       "      <th>5</th>\n",
       "      <td>7.5</td>\n",
       "      <td>8.5</td>\n",
       "      <td>9.0</td>\n",
       "      <td>1</td>\n",
       "    </tr>\n",
       "  </tbody>\n",
       "</table>\n",
       "</div>"
      ],
      "text/plain": [
       "   feature1  feature2  feature3  target\n",
       "0       1.5       3.0       2.5       0\n",
       "1       4.5       5.5       6.5       1\n",
       "2       6.0       7.0       8.0       0\n",
       "3       9.5      10.0      11.5       1\n",
       "4       2.0       1.5       3.5       0\n",
       "5       7.5       8.5       9.0       1"
      ]
     },
     "execution_count": 12,
     "metadata": {},
     "output_type": "execute_result"
    }
   ],
   "source": [
    "evaluation_data = read_dictionary(evaluation_data_dict)\n",
    "evaluation_data"
   ]
  },
  {
   "cell_type": "code",
   "execution_count": 13,
   "id": "bc7397de-b6a0-484f-a392-489fc0b06f04",
   "metadata": {},
   "outputs": [],
   "source": [
    "# Preprocess evaluation data\n",
    "preprocessed_evaluation_data = preprocess_data(evaluation_data, numerical_cols)\n",
    "\n",
    "# Feature engineering (if applicable)\n",
    "# Assuming you have X_train and y_train from your training data\n",
    "X_evaluation_selected = select_best_features(preprocessed_evaluation_data.drop('target', axis=1), preprocessed_evaluation_data['target'], k=3)\n"
   ]
  },
  {
   "cell_type": "markdown",
   "id": "7e0ccdaf-a7da-498f-9e69-a267ca019e04",
   "metadata": {},
   "source": [
    "### Getting Predictions"
   ]
  },
  {
   "cell_type": "code",
   "execution_count": 14,
   "id": "f6227f62-b0ed-46cb-9757-28de04702153",
   "metadata": {},
   "outputs": [
    {
     "data": {
      "text/plain": [
       "array([0, 1, 0, 1, 0, 0], dtype=int64)"
      ]
     },
     "execution_count": 14,
     "metadata": {},
     "output_type": "execute_result"
    }
   ],
   "source": [
    "predictions_evaluation = trained_model.predict(X_evaluation_selected)\n",
    "predictions_evaluation"
   ]
  },
  {
   "cell_type": "code",
   "execution_count": 22,
   "id": "a997f3b3-d634-4e7d-908c-ee1459ff69a0",
   "metadata": {},
   "outputs": [
    {
     "data": {
      "text/plain": [
       "0.8333333333333334"
      ]
     },
     "execution_count": 22,
     "metadata": {},
     "output_type": "execute_result"
    }
   ],
   "source": [
    "accuracy = evaluate_classification_model(trained_model, X_evaluation_selected, preprocessed_evaluation_data['target'])\n",
    "accuracy"
   ]
  },
  {
   "cell_type": "markdown",
   "id": "de11d145-d6e9-48e4-88f8-bd76ad62511b",
   "metadata": {},
   "source": [
    "### Visualizing CM"
   ]
  },
  {
   "cell_type": "code",
   "execution_count": 17,
   "id": "d5d48a56-a996-4558-932e-343c53f22aab",
   "metadata": {},
   "outputs": [
    {
     "data": {
      "image/png": "[encoded data removed]",
      "text/plain": [
       "<Figure size 800x600 with 2 Axes>"
      ]
     },
     "metadata": {},
     "output_type": "display_data"
    }
   ],
   "source": [
    "get_confusion_matrix(trained_model, preprocessed_evaluation_data['target'], predictions_evaluation)"
   ]
  },
  {
   "cell_type": "code",
   "execution_count": null,
   "id": "e28ca7da-be7f-4167-94cc-2284d5d54ca3",
   "metadata": {},
   "outputs": [],
   "source": []
  }
 ],
 "metadata": {
  "kernelspec": {
   "display_name": "Python 3 (ipykernel)",
   "language": "python",
   "name": "python3"
  },
  "language_info": {
   "codemirror_mode": {
    "name": "ipython",
    "version": 3
   },
   "file_extension": ".py",
   "mimetype": "text/x-python",
   "name": "python",
   "nbconvert_exporter": "python",
   "pygments_lexer": "ipython3",
   "version": "3.12.0"
  }
 },
 "nbformat": 4,
 "nbformat_minor": 5
}
